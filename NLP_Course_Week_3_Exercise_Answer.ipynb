{
  "nbformat": 4,
  "nbformat_minor": 0,
  "metadata": {
    "colab": {
      "name": "NLP Course - Week 3 Exercise Answer.ipynb",
      "provenance": []
    },
    "kernelspec": {
      "name": "python3",
      "display_name": "Python 3"
    },
    "accelerator": "GPU"
  },
  "cells": [
    {
      "cell_type": "code",
      "metadata": {
        "id": "hmA6EzkQJ5jt",
        "colab_type": "code",
        "colab": {}
      },
      "source": [
        "import json\n",
        "import tensorflow as tf\n",
        "import csv\n",
        "import random\n",
        "import numpy as np\n",
        "\n",
        "from tensorflow.keras.preprocessing.text import Tokenizer\n",
        "from tensorflow.keras.preprocessing.sequence import pad_sequences\n",
        "from tensorflow.keras.utils import to_categorical\n",
        "from tensorflow.keras import regularizers\n",
        "\n",
        "\n",
        "embedding_dim = 100\n",
        "max_length = 16\n",
        "trunc_type='post'\n",
        "padding_type='post'\n",
        "oov_tok = \"<OOV>\"\n",
        "training_size=160000\n",
        "test_portion=.1\n",
        "\n",
        "corpus = []\n"
      ],
      "execution_count": 0,
      "outputs": []
    },
    {
      "cell_type": "code",
      "metadata": {
        "id": "bM0l_dORKqE0",
        "colab_type": "code",
        "outputId": "01ea010a-e1d4-4937-b927-9cfee1087686",
        "colab": {
          "base_uri": "https://localhost:8080/",
          "height": 204
        }
      },
      "source": [
        "\n",
        "# Note that I cleaned the Stanford dataset to remove LATIN1 encoding to make it easier for Python CSV reader\n",
        "# You can do that yourself with:\n",
        "# iconv -f LATIN1 -t UTF8 training.1600000.processed.noemoticon.csv -o training_cleaned.csv\n",
        "# I then hosted it on my site to make it easier to use in this notebook\n",
        "\n",
        "!wget --no-check-certificate \\\n",
        "    https://storage.googleapis.com/laurencemoroney-blog.appspot.com/training_cleaned.csv \\\n",
        "    -O /tmp/training_cleaned.csv\n",
        "\n",
        "num_sentences = 0\n",
        "\n",
        "with open(\"/tmp/training_cleaned.csv\") as csvfile:\n",
        "    reader = csv.reader(csvfile, delimiter=',')\n",
        "    for row in reader:\n",
        "        list_item=[]\n",
        "        list_item.append(row[5])\n",
        "        this_label=row[0]\n",
        "        if this_label=='0':\n",
        "            list_item.append(0)\n",
        "        else:\n",
        "            list_item.append(1)\n",
        "        num_sentences = num_sentences + 1\n",
        "        corpus.append(list_item)\n",
        "\n",
        "\n"
      ],
      "execution_count": 2,
      "outputs": [
        {
          "output_type": "stream",
          "text": [
            "--2019-10-24 14:19:18--  https://storage.googleapis.com/laurencemoroney-blog.appspot.com/training_cleaned.csv\n",
            "Resolving storage.googleapis.com (storage.googleapis.com)... 74.125.26.128, 2607:f8b0:400c:c13::80\n",
            "Connecting to storage.googleapis.com (storage.googleapis.com)|74.125.26.128|:443... connected.\n",
            "HTTP request sent, awaiting response... 200 OK\n",
            "Length: 238942690 (228M) [application/octet-stream]\n",
            "Saving to: ‘/tmp/training_cleaned.csv’\n",
            "\n",
            "/tmp/training_clean 100%[===================>] 227.87M   101MB/s    in 2.3s    \n",
            "\n",
            "2019-10-24 14:19:20 (101 MB/s) - ‘/tmp/training_cleaned.csv’ saved [238942690/238942690]\n",
            "\n"
          ],
          "name": "stdout"
        }
      ]
    },
    {
      "cell_type": "code",
      "metadata": {
        "id": "2Z1I_V2VLa8B",
        "colab_type": "code",
        "colab": {
          "base_uri": "https://localhost:8080/",
          "height": 34
        },
        "outputId": "f5d74108-8ddc-47c5-aea8-2e56b2dba58f"
      },
      "source": [
        "list_item[0:2]"
      ],
      "execution_count": 4,
      "outputs": [
        {
          "output_type": "execute_result",
          "data": {
            "text/plain": [
              "['happy #charitytuesday @theNSPCC @SparksCharity @SpeakingUpH4H ', 1]"
            ]
          },
          "metadata": {
            "tags": []
          },
          "execution_count": 4
        }
      ]
    },
    {
      "cell_type": "code",
      "metadata": {
        "id": "3kxblBUjEUX-",
        "colab_type": "code",
        "outputId": "fd7fa7e7-8c58-4192-bd91-2b8a14f20db4",
        "colab": {
          "base_uri": "https://localhost:8080/",
          "height": 68
        }
      },
      "source": [
        "print(num_sentences)\n",
        "print(len(corpus))\n",
        "print(corpus[1])\n",
        "\n",
        "# Expected Output:\n",
        "# 1600000\n",
        "# 1600000\n",
        "# [\"is upset that he can't update his Facebook by texting it... and might cry as a result  School today also. Blah!\", 0]"
      ],
      "execution_count": 3,
      "outputs": [
        {
          "output_type": "stream",
          "text": [
            "1600000\n",
            "1600000\n",
            "[\"is upset that he can't update his Facebook by texting it... and might cry as a result  School today also. Blah!\", 0]\n"
          ],
          "name": "stdout"
        }
      ]
    },
    {
      "cell_type": "code",
      "metadata": {
        "id": "ohOGz24lsNAD",
        "colab_type": "code",
        "colab": {}
      },
      "source": [
        "sentences=[]\n",
        "labels=[]\n",
        "random.shuffle(corpus)\n",
        "for x in range(training_size):\n",
        "    sentences.append(corpus[x][0])\n",
        "    labels.append(corpus[x][1])\n",
        "\n",
        "\n",
        "tokenizer = Tokenizer()\n",
        "tokenizer.fit_on_texts(sentences)\n",
        "\n",
        "word_index = tokenizer.word_index\n",
        "vocab_size=len(word_index)\n",
        "\n",
        "sequences = tokenizer.texts_to_sequences(sentences)\n",
        "padded = pad_sequences(sequences, maxlen=max_length, padding=padding_type, truncating=trunc_type)\n",
        "\n",
        "split = int(test_portion * training_size)\n",
        "\n",
        "test_sequences = padded[0:split]\n",
        "training_sequences = padded[split:training_size]\n",
        "test_labels = labels[0:split]\n",
        "training_labels = labels[split:training_size]"
      ],
      "execution_count": 0,
      "outputs": []
    },
    {
      "cell_type": "code",
      "metadata": {
        "id": "gIrtRem1En3N",
        "colab_type": "code",
        "outputId": "b4552be0-a29d-4beb-a420-3d242496bcc9",
        "colab": {
          "base_uri": "https://localhost:8080/",
          "height": 51
        }
      },
      "source": [
        "print(vocab_size)\n",
        "print(word_index['i'])\n",
        "# Expected Output\n",
        "# 138858\n",
        "# 1"
      ],
      "execution_count": 7,
      "outputs": [
        {
          "output_type": "stream",
          "text": [
            "138395\n",
            "1\n"
          ],
          "name": "stdout"
        }
      ]
    },
    {
      "cell_type": "code",
      "metadata": {
        "id": "C1zdgJkusRh0",
        "colab_type": "code",
        "outputId": "3261f2a9-e7d2-4905-9bff-ae28114a5a21",
        "colab": {
          "base_uri": "https://localhost:8080/",
          "height": 204
        }
      },
      "source": [
        "# Note this is the 100 dimension version of GloVe from Stanford\n",
        "# I unzipped and hosted it on my site to make this notebook easier\n",
        "!wget --no-check-certificate \\\n",
        "    https://storage.googleapis.com/laurencemoroney-blog.appspot.com/glove.6B.100d.txt \\\n",
        "    -O /tmp/glove.6B.100d.txt\n",
        "embeddings_index = {};\n",
        "with open('/tmp/glove.6B.100d.txt') as f:\n",
        "    for line in f:\n",
        "        values = line.split();\n",
        "        word = values[0];\n",
        "        coefs = np.asarray(values[1:], dtype='float32');\n",
        "        embeddings_index[word] = coefs;\n",
        "\n",
        "embeddings_matrix = np.zeros((vocab_size+1, embedding_dim));\n",
        "for word, i in word_index.items():\n",
        "    embedding_vector = embeddings_index.get(word);\n",
        "    if embedding_vector is not None:\n",
        "        embeddings_matrix[i] = embedding_vector;"
      ],
      "execution_count": 8,
      "outputs": [
        {
          "output_type": "stream",
          "text": [
            "--2019-10-24 14:34:48--  https://storage.googleapis.com/laurencemoroney-blog.appspot.com/glove.6B.100d.txt\n",
            "Resolving storage.googleapis.com (storage.googleapis.com)... 172.217.203.128, 2607:f8b0:400c:c12::80\n",
            "Connecting to storage.googleapis.com (storage.googleapis.com)|172.217.203.128|:443... connected.\n",
            "HTTP request sent, awaiting response... 200 OK\n",
            "Length: 347116733 (331M) [text/plain]\n",
            "Saving to: ‘/tmp/glove.6B.100d.txt’\n",
            "\n",
            "/tmp/glove.6B.100d. 100%[===================>] 331.04M   119MB/s    in 2.8s    \n",
            "\n",
            "2019-10-24 14:34:51 (119 MB/s) - ‘/tmp/glove.6B.100d.txt’ saved [347116733/347116733]\n",
            "\n"
          ],
          "name": "stdout"
        }
      ]
    },
    {
      "cell_type": "code",
      "metadata": {
        "id": "71NLk_lpFLNt",
        "colab_type": "code",
        "outputId": "27890fc4-a775-41e9-c3d7-2f05e6d2adfc",
        "colab": {
          "base_uri": "https://localhost:8080/",
          "height": 34
        }
      },
      "source": [
        "print(len(embeddings_matrix))\n",
        "# Expected Output\n",
        "# 138859"
      ],
      "execution_count": 9,
      "outputs": [
        {
          "output_type": "stream",
          "text": [
            "138396\n"
          ],
          "name": "stdout"
        }
      ]
    },
    {
      "cell_type": "code",
      "metadata": {
        "colab_type": "code",
        "id": "iKKvbuEBOGFz",
        "colab": {
          "base_uri": "https://localhost:8080/",
          "height": 1000
        },
        "outputId": "c0f1130d-a4a7-4c5a-d08b-8783ad53c31f"
      },
      "source": [
        "model = tf.keras.Sequential([\n",
        "    tf.keras.layers.Embedding(vocab_size+1, embedding_dim, input_length=max_length, weights=[embeddings_matrix], trainable=False),\n",
        "    tf.keras.layers.Dropout(0.2),\n",
        "    tf.keras.layers.Conv1D(64, 5, activation='relu'),\n",
        "    tf.keras.layers.MaxPooling1D(pool_size=4),\n",
        "    tf.keras.layers.LSTM(64),\n",
        "    tf.keras.layers.Dense(1, activation='sigmoid')\n",
        "])\n",
        "model.compile(loss='binary_crossentropy',optimizer='adam',metrics=['accuracy'])\n",
        "model.summary()\n",
        "\n",
        "num_epochs = 50\n",
        "history = model.fit(training_sequences, training_labels, epochs=num_epochs, validation_data=(test_sequences, test_labels), verbose=2)\n",
        "\n",
        "print(\"Training Complete\")\n"
      ],
      "execution_count": 10,
      "outputs": [
        {
          "output_type": "stream",
          "text": [
            "WARNING:tensorflow:From /usr/local/lib/python3.6/dist-packages/tensorflow_core/python/keras/initializers.py:119: calling RandomUniform.__init__ (from tensorflow.python.ops.init_ops) with dtype is deprecated and will be removed in a future version.\n",
            "Instructions for updating:\n",
            "Call initializer instance with the dtype argument instead of passing it to the constructor\n",
            "WARNING:tensorflow:From /usr/local/lib/python3.6/dist-packages/tensorflow_core/python/ops/resource_variable_ops.py:1630: calling BaseResourceVariable.__init__ (from tensorflow.python.ops.resource_variable_ops) with constraint is deprecated and will be removed in a future version.\n",
            "Instructions for updating:\n",
            "If using Keras pass *_constraint arguments to layers.\n",
            "WARNING:tensorflow:From /usr/local/lib/python3.6/dist-packages/tensorflow_core/python/ops/nn_impl.py:183: where (from tensorflow.python.ops.array_ops) is deprecated and will be removed in a future version.\n",
            "Instructions for updating:\n",
            "Use tf.where in 2.0, which has the same broadcast rule as np.where\n",
            "Model: \"sequential\"\n",
            "_________________________________________________________________\n",
            "Layer (type)                 Output Shape              Param #   \n",
            "=================================================================\n",
            "embedding (Embedding)        (None, 16, 100)           13839600  \n",
            "_________________________________________________________________\n",
            "dropout (Dropout)            (None, 16, 100)           0         \n",
            "_________________________________________________________________\n",
            "conv1d (Conv1D)              (None, 12, 64)            32064     \n",
            "_________________________________________________________________\n",
            "max_pooling1d (MaxPooling1D) (None, 3, 64)             0         \n",
            "_________________________________________________________________\n",
            "lstm (LSTM)                  (None, 64)                33024     \n",
            "_________________________________________________________________\n",
            "dense (Dense)                (None, 1)                 65        \n",
            "=================================================================\n",
            "Total params: 13,904,753\n",
            "Trainable params: 65,153\n",
            "Non-trainable params: 13,839,600\n",
            "_________________________________________________________________\n",
            "Train on 144000 samples, validate on 16000 samples\n",
            "Epoch 1/50\n",
            "144000/144000 - 47s - loss: 0.5639 - acc: 0.7032 - val_loss: 0.5252 - val_acc: 0.7365\n",
            "Epoch 2/50\n",
            "144000/144000 - 42s - loss: 0.5243 - acc: 0.7338 - val_loss: 0.5178 - val_acc: 0.7401\n",
            "Epoch 3/50\n",
            "144000/144000 - 43s - loss: 0.5090 - acc: 0.7458 - val_loss: 0.5084 - val_acc: 0.7481\n",
            "Epoch 4/50\n",
            "144000/144000 - 42s - loss: 0.4963 - acc: 0.7542 - val_loss: 0.5011 - val_acc: 0.7524\n",
            "Epoch 5/50\n",
            "144000/144000 - 42s - loss: 0.4891 - acc: 0.7583 - val_loss: 0.5095 - val_acc: 0.7498\n",
            "Epoch 6/50\n",
            "144000/144000 - 42s - loss: 0.4819 - acc: 0.7633 - val_loss: 0.5023 - val_acc: 0.7506\n",
            "Epoch 7/50\n",
            "144000/144000 - 43s - loss: 0.4750 - acc: 0.7671 - val_loss: 0.5072 - val_acc: 0.7506\n",
            "Epoch 8/50\n",
            "144000/144000 - 42s - loss: 0.4703 - acc: 0.7701 - val_loss: 0.5050 - val_acc: 0.7517\n",
            "Epoch 9/50\n",
            "144000/144000 - 42s - loss: 0.4659 - acc: 0.7729 - val_loss: 0.5096 - val_acc: 0.7489\n",
            "Epoch 10/50\n",
            "144000/144000 - 42s - loss: 0.4621 - acc: 0.7745 - val_loss: 0.5062 - val_acc: 0.7520\n",
            "Epoch 11/50\n",
            "144000/144000 - 42s - loss: 0.4599 - acc: 0.7765 - val_loss: 0.5024 - val_acc: 0.7516\n",
            "Epoch 12/50\n",
            "144000/144000 - 42s - loss: 0.4556 - acc: 0.7793 - val_loss: 0.5055 - val_acc: 0.7541\n",
            "Epoch 13/50\n",
            "144000/144000 - 43s - loss: 0.4536 - acc: 0.7816 - val_loss: 0.5068 - val_acc: 0.7515\n",
            "Epoch 14/50\n",
            "144000/144000 - 42s - loss: 0.4527 - acc: 0.7806 - val_loss: 0.5120 - val_acc: 0.7476\n",
            "Epoch 15/50\n",
            "144000/144000 - 42s - loss: 0.4495 - acc: 0.7839 - val_loss: 0.5099 - val_acc: 0.7534\n",
            "Epoch 16/50\n",
            "144000/144000 - 42s - loss: 0.4469 - acc: 0.7849 - val_loss: 0.5109 - val_acc: 0.7529\n",
            "Epoch 17/50\n",
            "144000/144000 - 42s - loss: 0.4450 - acc: 0.7856 - val_loss: 0.5078 - val_acc: 0.7483\n",
            "Epoch 18/50\n",
            "144000/144000 - 42s - loss: 0.4421 - acc: 0.7881 - val_loss: 0.5122 - val_acc: 0.7491\n",
            "Epoch 19/50\n",
            "144000/144000 - 42s - loss: 0.4415 - acc: 0.7884 - val_loss: 0.5138 - val_acc: 0.7522\n",
            "Epoch 20/50\n",
            "144000/144000 - 43s - loss: 0.4403 - acc: 0.7890 - val_loss: 0.5135 - val_acc: 0.7497\n",
            "Epoch 21/50\n",
            "144000/144000 - 43s - loss: 0.4384 - acc: 0.7894 - val_loss: 0.5148 - val_acc: 0.7498\n",
            "Epoch 22/50\n",
            "144000/144000 - 43s - loss: 0.4379 - acc: 0.7902 - val_loss: 0.5151 - val_acc: 0.7488\n",
            "Epoch 23/50\n",
            "144000/144000 - 43s - loss: 0.4386 - acc: 0.7897 - val_loss: 0.5136 - val_acc: 0.7514\n",
            "Epoch 24/50\n",
            "144000/144000 - 43s - loss: 0.4353 - acc: 0.7908 - val_loss: 0.5169 - val_acc: 0.7543\n",
            "Epoch 25/50\n",
            "144000/144000 - 42s - loss: 0.4361 - acc: 0.7918 - val_loss: 0.5206 - val_acc: 0.7506\n",
            "Epoch 26/50\n",
            "144000/144000 - 43s - loss: 0.4350 - acc: 0.7906 - val_loss: 0.5180 - val_acc: 0.7494\n",
            "Epoch 27/50\n",
            "144000/144000 - 42s - loss: 0.4352 - acc: 0.7907 - val_loss: 0.5184 - val_acc: 0.7484\n",
            "Epoch 28/50\n",
            "144000/144000 - 42s - loss: 0.4343 - acc: 0.7918 - val_loss: 0.5155 - val_acc: 0.7501\n",
            "Epoch 29/50\n",
            "144000/144000 - 42s - loss: 0.4332 - acc: 0.7940 - val_loss: 0.5142 - val_acc: 0.7498\n",
            "Epoch 30/50\n",
            "144000/144000 - 43s - loss: 0.4316 - acc: 0.7933 - val_loss: 0.5164 - val_acc: 0.7494\n",
            "Epoch 31/50\n",
            "144000/144000 - 42s - loss: 0.4311 - acc: 0.7948 - val_loss: 0.5151 - val_acc: 0.7494\n",
            "Epoch 32/50\n",
            "144000/144000 - 42s - loss: 0.4326 - acc: 0.7935 - val_loss: 0.5175 - val_acc: 0.7478\n",
            "Epoch 33/50\n",
            "144000/144000 - 42s - loss: 0.4308 - acc: 0.7944 - val_loss: 0.5246 - val_acc: 0.7468\n",
            "Epoch 34/50\n",
            "144000/144000 - 42s - loss: 0.4302 - acc: 0.7941 - val_loss: 0.5199 - val_acc: 0.7492\n",
            "Epoch 35/50\n",
            "144000/144000 - 42s - loss: 0.4308 - acc: 0.7937 - val_loss: 0.5155 - val_acc: 0.7504\n",
            "Epoch 36/50\n",
            "144000/144000 - 42s - loss: 0.4287 - acc: 0.7946 - val_loss: 0.5215 - val_acc: 0.7485\n",
            "Epoch 37/50\n",
            "144000/144000 - 42s - loss: 0.4297 - acc: 0.7962 - val_loss: 0.5262 - val_acc: 0.7464\n",
            "Epoch 38/50\n",
            "144000/144000 - 42s - loss: 0.4293 - acc: 0.7952 - val_loss: 0.5228 - val_acc: 0.7475\n",
            "Epoch 39/50\n",
            "144000/144000 - 42s - loss: 0.4283 - acc: 0.7958 - val_loss: 0.5219 - val_acc: 0.7474\n",
            "Epoch 40/50\n",
            "144000/144000 - 42s - loss: 0.4264 - acc: 0.7969 - val_loss: 0.5203 - val_acc: 0.7476\n",
            "Epoch 41/50\n",
            "144000/144000 - 42s - loss: 0.4274 - acc: 0.7962 - val_loss: 0.5282 - val_acc: 0.7489\n",
            "Epoch 42/50\n",
            "144000/144000 - 42s - loss: 0.4268 - acc: 0.7949 - val_loss: 0.5208 - val_acc: 0.7509\n",
            "Epoch 43/50\n",
            "144000/144000 - 42s - loss: 0.4268 - acc: 0.7968 - val_loss: 0.5246 - val_acc: 0.7473\n",
            "Epoch 44/50\n",
            "144000/144000 - 42s - loss: 0.4284 - acc: 0.7955 - val_loss: 0.5194 - val_acc: 0.7469\n",
            "Epoch 45/50\n",
            "144000/144000 - 42s - loss: 0.4276 - acc: 0.7969 - val_loss: 0.5249 - val_acc: 0.7443\n",
            "Epoch 46/50\n",
            "144000/144000 - 42s - loss: 0.4275 - acc: 0.7964 - val_loss: 0.5234 - val_acc: 0.7479\n",
            "Epoch 47/50\n",
            "144000/144000 - 42s - loss: 0.4267 - acc: 0.7964 - val_loss: 0.5206 - val_acc: 0.7438\n",
            "Epoch 48/50\n",
            "144000/144000 - 42s - loss: 0.4268 - acc: 0.7967 - val_loss: 0.5201 - val_acc: 0.7452\n",
            "Epoch 49/50\n",
            "144000/144000 - 42s - loss: 0.4255 - acc: 0.7969 - val_loss: 0.5233 - val_acc: 0.7469\n",
            "Epoch 50/50\n",
            "144000/144000 - 42s - loss: 0.4236 - acc: 0.7983 - val_loss: 0.5257 - val_acc: 0.7482\n",
            "Training Complete\n"
          ],
          "name": "stdout"
        }
      ]
    },
    {
      "cell_type": "code",
      "metadata": {
        "id": "qxju4ItJKO8F",
        "colab_type": "code",
        "colab": {
          "base_uri": "https://localhost:8080/",
          "height": 607
        },
        "outputId": "6a783978-d7f0-4578-b6f9-d11ceef6f619"
      },
      "source": [
        "import matplotlib.image  as mpimg\n",
        "import matplotlib.pyplot as plt\n",
        "\n",
        "#-----------------------------------------------------------\n",
        "# Retrieve a list of list results on training and test data\n",
        "# sets for each training epoch\n",
        "#-----------------------------------------------------------\n",
        "acc=history.history['acc']\n",
        "val_acc=history.history['val_acc']\n",
        "loss=history.history['loss']\n",
        "val_loss=history.history['val_loss']\n",
        "\n",
        "epochs=range(len(acc)) # Get number of epochs\n",
        "\n",
        "#------------------------------------------------\n",
        "# Plot training and validation accuracy per epoch\n",
        "#------------------------------------------------\n",
        "plt.plot(epochs, acc, 'r')\n",
        "plt.plot(epochs, val_acc, 'b')\n",
        "plt.title('Training and validation accuracy')\n",
        "plt.xlabel(\"Epochs\")\n",
        "plt.ylabel(\"Accuracy\")\n",
        "plt.legend([\"Accuracy\", \"Validation Accuracy\"])\n",
        "\n",
        "plt.figure()\n",
        "\n",
        "#------------------------------------------------\n",
        "# Plot training and validation loss per epoch\n",
        "#------------------------------------------------\n",
        "plt.plot(epochs, loss, 'r')\n",
        "plt.plot(epochs, val_loss, 'b')\n",
        "plt.title('Training and validation loss')\n",
        "plt.xlabel(\"Epochs\")\n",
        "plt.ylabel(\"Loss\")\n",
        "plt.legend([\"Loss\", \"Validation Loss\"])\n",
        "\n",
        "plt.figure()\n",
        "\n",
        "\n",
        "# Expected Output\n",
        "# A chart where the validation loss does not increase sharply!"
      ],
      "execution_count": 11,
      "outputs": [
        {
          "output_type": "execute_result",
          "data": {
            "text/plain": [
              "<Figure size 432x288 with 0 Axes>"
            ]
          },
          "metadata": {
            "tags": []
          },
          "execution_count": 11
        },
        {
          "output_type": "display_data",
          "data": {
            "image/png": "[encoded data removed]",
            "text/plain": [
              "<Figure size 432x288 with 1 Axes>"
            ]
          },
          "metadata": {
            "tags": []
          }
        },
        {
          "output_type": "display_data",
          "data": {
            "image/png": "[encoded data removed]",
            "text/plain": [
              "<Figure size 432x288 with 1 Axes>"
            ]
          },
          "metadata": {
            "tags": []
          }
        },
        {
          "output_type": "display_data",
          "data": {
            "text/plain": [
              "<Figure size 432x288 with 0 Axes>"
            ]
          },
          "metadata": {
            "tags": []
          }
        }
      ]
    },
    {
      "cell_type": "code",
      "metadata": {
        "id": "OzJfpwLEXck4",
        "colab_type": "code",
        "colab": {}
      },
      "source": [
        ""
      ],
      "execution_count": 0,
      "outputs": []
    }
  ]
}