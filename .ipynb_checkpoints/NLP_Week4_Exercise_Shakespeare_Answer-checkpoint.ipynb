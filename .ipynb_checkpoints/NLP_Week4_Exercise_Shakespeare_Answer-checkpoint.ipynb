{
 "cells": [
  {
   "cell_type": "code",
   "execution_count": 0,
   "metadata": {
    "colab": {},
    "colab_type": "code",
    "id": "BOwsuGQQY9OL"
   },
   "outputs": [],
   "source": [
    "from tensorflow.keras.preprocessing.sequence import pad_sequences\n",
    "from tensorflow.keras.layers import Embedding, LSTM, Dense, Dropout, Bidirectional\n",
    "from tensorflow.keras.preprocessing.text import Tokenizer\n",
    "from tensorflow.keras.models import Sequential\n",
    "from tensorflow.keras.optimizers import Adam\n",
    "from tensorflow.keras import regularizers\n",
    "import tensorflow.keras.utils as ku \n",
    "import numpy as np \n",
    "# https://www.tensorflow.org/tutorials/text/text_generation"
   ]
  },
  {
   "cell_type": "code",
   "execution_count": 2,
   "metadata": {
    "colab": {
     "base_uri": "https://localhost:8080/",
     "height": 204
    },
    "colab_type": "code",
    "id": "PRnDnCW-Z7qv",
    "outputId": "314900f8-19b0-4979-ca24-1006128f7e66"
   },
   "outputs": [
    {
     "name": "stdout",
     "output_type": "stream",
     "text": [
      "--2019-10-25 11:12:14--  https://storage.googleapis.com/laurencemoroney-blog.appspot.com/sonnets.txt\n",
      "Resolving storage.googleapis.com (storage.googleapis.com)... 74.125.124.128, 2607:f8b0:4001:c03::80\n",
      "Connecting to storage.googleapis.com (storage.googleapis.com)|74.125.124.128|:443... connected.\n",
      "HTTP request sent, awaiting response... 200 OK\n",
      "Length: 93578 (91K) [text/plain]\n",
      "Saving to: ‘/tmp/sonnets.txt’\n",
      "\n",
      "\r",
      "/tmp/sonnets.txt      0%[                    ]       0  --.-KB/s               \r",
      "/tmp/sonnets.txt    100%[===================>]  91.38K  --.-KB/s    in 0.001s  \n",
      "\n",
      "2019-10-25 11:12:14 (111 MB/s) - ‘/tmp/sonnets.txt’ saved [93578/93578]\n",
      "\n"
     ]
    }
   ],
   "source": [
    "tokenizer = Tokenizer()\n",
    "!wget --no-check-certificate \\\n",
    "    https://storage.googleapis.com/laurencemoroney-blog.appspot.com/sonnets.txt \\\n",
    "    -O /tmp/sonnets.txt\n",
    "data = open('/tmp/sonnets.txt').read()\n",
    "\n",
    "corpus = data.lower().split(\"\\n\")\n",
    "\n",
    "\n",
    "tokenizer.fit_on_texts(corpus)\n",
    "total_words = len(tokenizer.word_index) + 1\n",
    "\n",
    "# create input sequences using list of tokens\n",
    "input_sequences = []\n",
    "for line in corpus:\n",
    "\ttoken_list = tokenizer.texts_to_sequences([line])[0]\n",
    "\tfor i in range(1, len(token_list)):\n",
    "\t\tn_gram_sequence = token_list[:i+1]\n",
    "\t\tinput_sequences.append(n_gram_sequence)\n",
    "\n",
    "\n",
    "# pad sequences \n",
    "max_sequence_len = max([len(x) for x in input_sequences])\n",
    "input_sequences = np.array(pad_sequences(input_sequences, maxlen=max_sequence_len, padding='pre'))\n",
    "\n",
    "# create predictors and label\n",
    "predictors, label = input_sequences[:,:-1],input_sequences[:,-1]\n",
    "\n",
    "label = ku.to_categorical(label, num_classes=total_words)"
   ]
  },
  {
   "cell_type": "code",
   "execution_count": 3,
   "metadata": {
    "colab": {
     "base_uri": "https://localhost:8080/",
     "height": 649
    },
    "colab_type": "code",
    "id": "w9vH8Y59ajYL",
    "outputId": "51d2b1b3-6a87-4881-9f43-f243d6c38f1d"
   },
   "outputs": [
    {
     "name": "stdout",
     "output_type": "stream",
     "text": [
      "WARNING:tensorflow:From /usr/local/lib/python3.6/dist-packages/tensorflow_core/python/keras/initializers.py:119: calling RandomUniform.__init__ (from tensorflow.python.ops.init_ops) with dtype is deprecated and will be removed in a future version.\n",
      "Instructions for updating:\n",
      "Call initializer instance with the dtype argument instead of passing it to the constructor\n",
      "WARNING:tensorflow:From /usr/local/lib/python3.6/dist-packages/tensorflow_core/python/ops/resource_variable_ops.py:1630: calling BaseResourceVariable.__init__ (from tensorflow.python.ops.resource_variable_ops) with constraint is deprecated and will be removed in a future version.\n",
      "Instructions for updating:\n",
      "If using Keras pass *_constraint arguments to layers.\n",
      "WARNING:tensorflow:From /usr/local/lib/python3.6/dist-packages/tensorflow_core/python/ops/init_ops.py:97: calling GlorotUniform.__init__ (from tensorflow.python.ops.init_ops) with dtype is deprecated and will be removed in a future version.\n",
      "Instructions for updating:\n",
      "Call initializer instance with the dtype argument instead of passing it to the constructor\n",
      "WARNING:tensorflow:From /usr/local/lib/python3.6/dist-packages/tensorflow_core/python/ops/init_ops.py:97: calling Orthogonal.__init__ (from tensorflow.python.ops.init_ops) with dtype is deprecated and will be removed in a future version.\n",
      "Instructions for updating:\n",
      "Call initializer instance with the dtype argument instead of passing it to the constructor\n",
      "WARNING:tensorflow:From /usr/local/lib/python3.6/dist-packages/tensorflow_core/python/ops/init_ops.py:97: calling Zeros.__init__ (from tensorflow.python.ops.init_ops) with dtype is deprecated and will be removed in a future version.\n",
      "Instructions for updating:\n",
      "Call initializer instance with the dtype argument instead of passing it to the constructor\n",
      "Model: \"sequential\"\n",
      "_________________________________________________________________\n",
      "Layer (type)                 Output Shape              Param #   \n",
      "=================================================================\n",
      "embedding (Embedding)        (None, 10, 100)           321100    \n",
      "_________________________________________________________________\n",
      "bidirectional (Bidirectional (None, 10, 300)           301200    \n",
      "_________________________________________________________________\n",
      "dropout (Dropout)            (None, 10, 300)           0         \n",
      "_________________________________________________________________\n",
      "lstm_1 (LSTM)                (None, 100)               160400    \n",
      "_________________________________________________________________\n",
      "dense (Dense)                (None, 1605)              162105    \n",
      "_________________________________________________________________\n",
      "dense_1 (Dense)              (None, 3211)              5156866   \n",
      "=================================================================\n",
      "Total params: 6,101,671\n",
      "Trainable params: 6,101,671\n",
      "Non-trainable params: 0\n",
      "_________________________________________________________________\n",
      "None\n"
     ]
    }
   ],
   "source": [
    "model = Sequential()\n",
    "model.add(Embedding(total_words, 100, input_length=max_sequence_len-1))\n",
    "model.add(Bidirectional(LSTM(150, return_sequences = True)))\n",
    "model.add(Dropout(0.2))\n",
    "model.add(LSTM(100))\n",
    "model.add(Dense(total_words/2, activation='relu', kernel_regularizer=regularizers.l2(0.01)))\n",
    "model.add(Dense(total_words, activation='softmax'))\n",
    "model.compile(loss='categorical_crossentropy', optimizer='adam', metrics=['accuracy'])\n",
    "print(model.summary())\n"
   ]
  },
  {
   "cell_type": "code",
   "execution_count": 4,
   "metadata": {
    "colab": {
     "base_uri": "https://localhost:8080/",
     "height": 1000
    },
    "colab_type": "code",
    "id": "AIg2f1HBxqof",
    "outputId": "47d7819e-f0e7-4c99-b069-db5d3b62c587"
   },
   "outputs": [
    {
     "name": "stdout",
     "output_type": "stream",
     "text": [
      "WARNING:tensorflow:From /usr/local/lib/python3.6/dist-packages/tensorflow_core/python/ops/math_grad.py:1424: where (from tensorflow.python.ops.array_ops) is deprecated and will be removed in a future version.\n",
      "Instructions for updating:\n",
      "Use tf.where in 2.0, which has the same broadcast rule as np.where\n",
      "Train on 15462 samples\n",
      "Epoch 1/100\n",
      "15462/15462 [==============================] - 38s 2ms/sample - loss: 6.9215 - acc: 0.0213\n",
      "Epoch 2/100\n",
      "15462/15462 [==============================] - 35s 2ms/sample - loss: 6.4960 - acc: 0.0223\n",
      "Epoch 3/100\n",
      "15462/15462 [==============================] - 35s 2ms/sample - loss: 6.3990 - acc: 0.0251\n",
      "Epoch 4/100\n",
      "15462/15462 [==============================] - 34s 2ms/sample - loss: 6.2656 - acc: 0.0290\n",
      "Epoch 5/100\n",
      "15462/15462 [==============================] - 34s 2ms/sample - loss: 6.1717 - acc: 0.0357\n",
      "Epoch 6/100\n",
      "15462/15462 [==============================] - 34s 2ms/sample - loss: 6.0873 - acc: 0.0376\n",
      "Epoch 7/100\n",
      "15462/15462 [==============================] - 35s 2ms/sample - loss: 6.0025 - acc: 0.0399\n",
      "Epoch 8/100\n",
      "15462/15462 [==============================] - 37s 2ms/sample - loss: 5.9115 - acc: 0.0433\n",
      "Epoch 9/100\n",
      "15462/15462 [==============================] - 37s 2ms/sample - loss: 5.8122 - acc: 0.0508\n",
      "Epoch 10/100\n",
      "15462/15462 [==============================] - 37s 2ms/sample - loss: 5.7019 - acc: 0.0560\n",
      "Epoch 11/100\n",
      "15462/15462 [==============================] - 37s 2ms/sample - loss: 5.5871 - acc: 0.0659\n",
      "Epoch 12/100\n",
      "15462/15462 [==============================] - 37s 2ms/sample - loss: 5.4679 - acc: 0.0733\n",
      "Epoch 13/100\n",
      "15462/15462 [==============================] - 36s 2ms/sample - loss: 5.3561 - acc: 0.0805\n",
      "Epoch 14/100\n",
      "15462/15462 [==============================] - 36s 2ms/sample - loss: 5.2389 - acc: 0.0860\n",
      "Epoch 15/100\n",
      "15462/15462 [==============================] - 36s 2ms/sample - loss: 5.1341 - acc: 0.0936\n",
      "Epoch 16/100\n",
      "15462/15462 [==============================] - 35s 2ms/sample - loss: 5.0255 - acc: 0.1015\n",
      "Epoch 17/100\n",
      "15462/15462 [==============================] - 35s 2ms/sample - loss: 4.9203 - acc: 0.1104\n",
      "Epoch 18/100\n",
      "15462/15462 [==============================] - 35s 2ms/sample - loss: 4.8191 - acc: 0.1191\n",
      "Epoch 19/100\n",
      "15462/15462 [==============================] - 35s 2ms/sample - loss: 4.7180 - acc: 0.1314\n",
      "Epoch 20/100\n",
      "15462/15462 [==============================] - 37s 2ms/sample - loss: 4.6168 - acc: 0.1378\n",
      "Epoch 21/100\n",
      "15462/15462 [==============================] - 36s 2ms/sample - loss: 4.5194 - acc: 0.1474\n",
      "Epoch 22/100\n",
      "15462/15462 [==============================] - 35s 2ms/sample - loss: 4.4197 - acc: 0.1589\n",
      "Epoch 23/100\n",
      "15462/15462 [==============================] - 35s 2ms/sample - loss: 4.3177 - acc: 0.1741\n",
      "Epoch 24/100\n",
      "15462/15462 [==============================] - 35s 2ms/sample - loss: 4.2178 - acc: 0.1843\n",
      "Epoch 25/100\n",
      "15462/15462 [==============================] - 35s 2ms/sample - loss: 4.1190 - acc: 0.1964\n",
      "Epoch 26/100\n",
      "15462/15462 [==============================] - 34s 2ms/sample - loss: 4.0147 - acc: 0.2108\n",
      "Epoch 27/100\n",
      "15462/15462 [==============================] - 35s 2ms/sample - loss: 3.9197 - acc: 0.2243\n",
      "Epoch 28/100\n",
      "15462/15462 [==============================] - 35s 2ms/sample - loss: 3.8357 - acc: 0.2370\n",
      "Epoch 29/100\n",
      "15462/15462 [==============================] - 35s 2ms/sample - loss: 3.7421 - acc: 0.2524\n",
      "Epoch 30/100\n",
      "15462/15462 [==============================] - 35s 2ms/sample - loss: 3.6467 - acc: 0.2721\n",
      "Epoch 31/100\n",
      "15462/15462 [==============================] - 35s 2ms/sample - loss: 3.5510 - acc: 0.2879\n",
      "Epoch 32/100\n",
      "15462/15462 [==============================] - 35s 2ms/sample - loss: 3.4761 - acc: 0.3059\n",
      "Epoch 33/100\n",
      "15462/15462 [==============================] - 36s 2ms/sample - loss: 3.3824 - acc: 0.3235\n",
      "Epoch 34/100\n",
      "15462/15462 [==============================] - 37s 2ms/sample - loss: 3.3062 - acc: 0.3437\n",
      "Epoch 35/100\n",
      "15462/15462 [==============================] - 37s 2ms/sample - loss: 3.2251 - acc: 0.3642\n",
      "Epoch 36/100\n",
      "15462/15462 [==============================] - 36s 2ms/sample - loss: 3.1515 - acc: 0.3771\n",
      "Epoch 37/100\n",
      "15462/15462 [==============================] - 35s 2ms/sample - loss: 3.0769 - acc: 0.3909\n",
      "Epoch 38/100\n",
      "15462/15462 [==============================] - 35s 2ms/sample - loss: 3.0105 - acc: 0.4100\n",
      "Epoch 39/100\n",
      "15462/15462 [==============================] - 36s 2ms/sample - loss: 2.9300 - acc: 0.4296\n",
      "Epoch 40/100\n",
      "15462/15462 [==============================] - 36s 2ms/sample - loss: 2.8718 - acc: 0.4413\n",
      "Epoch 41/100\n",
      "15462/15462 [==============================] - 36s 2ms/sample - loss: 2.8111 - acc: 0.4545\n",
      "Epoch 42/100\n",
      "15462/15462 [==============================] - 36s 2ms/sample - loss: 2.7493 - acc: 0.4682\n",
      "Epoch 43/100\n",
      "15462/15462 [==============================] - 36s 2ms/sample - loss: 2.6749 - acc: 0.4840\n",
      "Epoch 44/100\n",
      "15462/15462 [==============================] - 36s 2ms/sample - loss: 2.6159 - acc: 0.5003\n",
      "Epoch 45/100\n",
      "15462/15462 [==============================] - 35s 2ms/sample - loss: 2.5628 - acc: 0.5140\n",
      "Epoch 46/100\n",
      "15462/15462 [==============================] - 35s 2ms/sample - loss: 2.5042 - acc: 0.5252\n",
      "Epoch 47/100\n",
      "15462/15462 [==============================] - 34s 2ms/sample - loss: 2.4686 - acc: 0.5291\n",
      "Epoch 48/100\n",
      "15462/15462 [==============================] - 34s 2ms/sample - loss: 2.4037 - acc: 0.5473\n",
      "Epoch 49/100\n",
      "15462/15462 [==============================] - 35s 2ms/sample - loss: 2.3564 - acc: 0.5575\n",
      "Epoch 50/100\n",
      "15462/15462 [==============================] - 38s 2ms/sample - loss: 2.3121 - acc: 0.5698\n",
      "Epoch 51/100\n",
      "15462/15462 [==============================] - 38s 2ms/sample - loss: 2.2583 - acc: 0.5807\n",
      "Epoch 52/100\n",
      "15462/15462 [==============================] - 38s 2ms/sample - loss: 2.2145 - acc: 0.5915\n",
      "Epoch 53/100\n",
      "15462/15462 [==============================] - 37s 2ms/sample - loss: 2.1731 - acc: 0.6030\n",
      "Epoch 54/100\n",
      "15462/15462 [==============================] - 37s 2ms/sample - loss: 2.1261 - acc: 0.6130\n",
      "Epoch 55/100\n",
      "15462/15462 [==============================] - 37s 2ms/sample - loss: 2.0795 - acc: 0.6257\n",
      "Epoch 56/100\n",
      "15462/15462 [==============================] - 36s 2ms/sample - loss: 2.0425 - acc: 0.6273\n",
      "Epoch 57/100\n",
      "15462/15462 [==============================] - 36s 2ms/sample - loss: 2.0168 - acc: 0.6331\n",
      "Epoch 58/100\n",
      "15462/15462 [==============================] - 36s 2ms/sample - loss: 1.9777 - acc: 0.6416\n",
      "Epoch 59/100\n",
      "15462/15462 [==============================] - 35s 2ms/sample - loss: 1.9300 - acc: 0.6553\n",
      "Epoch 60/100\n",
      "15462/15462 [==============================] - 35s 2ms/sample - loss: 1.9002 - acc: 0.6601\n",
      "Epoch 61/100\n",
      "15462/15462 [==============================] - 35s 2ms/sample - loss: 1.8707 - acc: 0.6678\n",
      "Epoch 62/100\n",
      "15462/15462 [==============================] - 35s 2ms/sample - loss: 1.8420 - acc: 0.6694\n",
      "Epoch 63/100\n",
      "15462/15462 [==============================] - 35s 2ms/sample - loss: 1.8143 - acc: 0.6781\n",
      "Epoch 64/100\n",
      "15462/15462 [==============================] - 35s 2ms/sample - loss: 1.7760 - acc: 0.6872\n",
      "Epoch 65/100\n",
      "15462/15462 [==============================] - 35s 2ms/sample - loss: 1.7479 - acc: 0.6909\n",
      "Epoch 66/100\n",
      "15462/15462 [==============================] - 35s 2ms/sample - loss: 1.7254 - acc: 0.6934\n",
      "Epoch 67/100\n",
      "15462/15462 [==============================] - 35s 2ms/sample - loss: 1.7053 - acc: 0.7007\n",
      "Epoch 68/100\n",
      "15462/15462 [==============================] - 34s 2ms/sample - loss: 1.6813 - acc: 0.6994\n",
      "Epoch 69/100\n",
      "15462/15462 [==============================] - 35s 2ms/sample - loss: 1.6430 - acc: 0.7124\n",
      "Epoch 70/100\n",
      "15462/15462 [==============================] - 35s 2ms/sample - loss: 1.6188 - acc: 0.7183\n",
      "Epoch 71/100\n",
      "15462/15462 [==============================] - 35s 2ms/sample - loss: 1.5837 - acc: 0.7220\n",
      "Epoch 72/100\n",
      "15462/15462 [==============================] - 35s 2ms/sample - loss: 1.5830 - acc: 0.7218\n",
      "Epoch 73/100\n",
      "15462/15462 [==============================] - 35s 2ms/sample - loss: 1.5550 - acc: 0.7287\n",
      "Epoch 74/100\n",
      "15462/15462 [==============================] - 36s 2ms/sample - loss: 1.5383 - acc: 0.7299\n",
      "Epoch 75/100\n",
      "15462/15462 [==============================] - 37s 2ms/sample - loss: 1.5173 - acc: 0.7344\n",
      "Epoch 76/100\n",
      "15462/15462 [==============================] - 36s 2ms/sample - loss: 1.5019 - acc: 0.7388\n",
      "Epoch 77/100\n",
      "15462/15462 [==============================] - 35s 2ms/sample - loss: 1.4751 - acc: 0.7461\n",
      "Epoch 78/100\n",
      "15462/15462 [==============================] - 36s 2ms/sample - loss: 1.4531 - acc: 0.7475\n",
      "Epoch 79/100\n",
      "15462/15462 [==============================] - 36s 2ms/sample - loss: 1.4342 - acc: 0.7529\n",
      "Epoch 80/100\n",
      "15462/15462 [==============================] - 36s 2ms/sample - loss: 1.4019 - acc: 0.7581\n",
      "Epoch 81/100\n",
      "15462/15462 [==============================] - 36s 2ms/sample - loss: 1.4071 - acc: 0.7577\n",
      "Epoch 82/100\n",
      "15462/15462 [==============================] - 35s 2ms/sample - loss: 1.3999 - acc: 0.7571\n",
      "Epoch 83/100\n",
      "15462/15462 [==============================] - 34s 2ms/sample - loss: 1.3793 - acc: 0.7611\n",
      "Epoch 84/100\n",
      "15462/15462 [==============================] - 34s 2ms/sample - loss: 1.3553 - acc: 0.7639\n",
      "Epoch 85/100\n",
      "15462/15462 [==============================] - 36s 2ms/sample - loss: 1.3516 - acc: 0.7639\n",
      "Epoch 86/100\n",
      "15462/15462 [==============================] - 37s 2ms/sample - loss: 1.3306 - acc: 0.7698\n",
      "Epoch 87/100\n",
      "15462/15462 [==============================] - 36s 2ms/sample - loss: 1.3142 - acc: 0.7728\n",
      "Epoch 88/100\n",
      "15462/15462 [==============================] - 37s 2ms/sample - loss: 1.2970 - acc: 0.7748\n",
      "Epoch 89/100\n",
      "15462/15462 [==============================] - 37s 2ms/sample - loss: 1.2788 - acc: 0.7820\n",
      "Epoch 90/100\n",
      "15462/15462 [==============================] - 35s 2ms/sample - loss: 1.2679 - acc: 0.7830\n",
      "Epoch 91/100\n",
      "15462/15462 [==============================] - 35s 2ms/sample - loss: 1.2614 - acc: 0.7808\n",
      "Epoch 92/100\n",
      "15462/15462 [==============================] - 35s 2ms/sample - loss: 1.2439 - acc: 0.7853\n",
      "Epoch 93/100\n",
      "15462/15462 [==============================] - 35s 2ms/sample - loss: 1.2358 - acc: 0.7842\n",
      "Epoch 94/100\n",
      "15462/15462 [==============================] - 34s 2ms/sample - loss: 1.2281 - acc: 0.7866\n",
      "Epoch 95/100\n",
      "15462/15462 [==============================] - 34s 2ms/sample - loss: 1.2130 - acc: 0.7888\n",
      "Epoch 96/100\n",
      "15462/15462 [==============================] - 34s 2ms/sample - loss: 1.2008 - acc: 0.7899\n",
      "Epoch 97/100\n",
      "15462/15462 [==============================] - 34s 2ms/sample - loss: 1.1821 - acc: 0.7952\n",
      "Epoch 98/100\n",
      "15462/15462 [==============================] - 34s 2ms/sample - loss: 1.1721 - acc: 0.7971\n",
      "Epoch 99/100\n",
      "15462/15462 [==============================] - 34s 2ms/sample - loss: 1.1635 - acc: 0.7983\n",
      "Epoch 100/100\n",
      "15462/15462 [==============================] - 34s 2ms/sample - loss: 1.1636 - acc: 0.7954\n"
     ]
    }
   ],
   "source": [
    " history = model.fit(predictors, label, epochs=100, verbose=1)"
   ]
  },
  {
   "cell_type": "code",
   "execution_count": 5,
   "metadata": {
    "colab": {
     "base_uri": "https://localhost:8080/",
     "height": 545
    },
    "colab_type": "code",
    "id": "1fXTEO3GJ282",
    "outputId": "0d379883-693e-4768-ceb4-1deae7d226ac"
   },
   "outputs": [
    {
     "data": {
      "image/png": "[encoded data removed]",
      "text/plain": [
       "<Figure size 432x288 with 1 Axes>"
      ]
     },
     "metadata": {
      "tags": []
     },
     "output_type": "display_data"
    },
    {
     "data": {
      "image/png": "[encoded data removed]",
      "text/plain": [
       "<Figure size 432x288 with 1 Axes>"
      ]
     },
     "metadata": {
      "tags": []
     },
     "output_type": "display_data"
    }
   ],
   "source": [
    "import matplotlib.pyplot as plt\n",
    "acc = history.history['acc']\n",
    "loss = history.history['loss']\n",
    "\n",
    "epochs = range(len(acc))\n",
    "\n",
    "plt.plot(epochs, acc, 'b', label='Training accuracy')\n",
    "plt.title('Training accuracy')\n",
    "\n",
    "plt.figure()\n",
    "\n",
    "plt.plot(epochs, loss, 'b', label='Training Loss')\n",
    "plt.title('Training loss')\n",
    "plt.legend()\n",
    "\n",
    "plt.show()"
   ]
  },
  {
   "cell_type": "code",
   "execution_count": 6,
   "metadata": {
    "colab": {
     "base_uri": "https://localhost:8080/",
     "height": 54
    },
    "colab_type": "code",
    "id": "6Vc6PHgxa6Hm",
    "outputId": "c7964ffb-d32f-4d4f-a162-925f7e2b7128"
   },
   "outputs": [
    {
     "name": "stdout",
     "output_type": "stream",
     "text": [
      "Help me Obi Wan Kenobi, you're my only hope should please their brow ' common foes part ' must live good common feast so old sight ' alone well alone alone there doth thought new steal i show his mind doth thee old ' new ' here lived alone so short a date on ill lies die ride mother live alone new leaves go lives still weeds me tongue so lack as her sweet name may prove me live bright write old dear mistress weeds care 'tis hue care right wit quite last die so kind shall ' lived thee back releasing untrue bearing me fled strange lack new\n"
     ]
    }
   ],
   "source": [
    "seed_text = \"Help me Obi Wan Kenobi, you're my only hope\"\n",
    "next_words = 100\n",
    "  \n",
    "for _ in range(next_words):\n",
    "\ttoken_list = tokenizer.texts_to_sequences([seed_text])[0]\n",
    "\ttoken_list = pad_sequences([token_list], maxlen=max_sequence_len-1, padding='pre')\n",
    "\tpredicted = model.predict_classes(token_list, verbose=0)\n",
    "\toutput_word = \"\"\n",
    "\tfor word, index in tokenizer.word_index.items():\n",
    "\t\tif index == predicted:\n",
    "\t\t\toutput_word = word\n",
    "\t\t\tbreak\n",
    "\tseed_text += \" \" + output_word\n",
    "print(seed_text)"
   ]
  },
  {
   "cell_type": "code",
   "execution_count": 0,
   "metadata": {
    "colab": {},
    "colab_type": "code",
    "id": "hPvImQIOoRD3"
   },
   "outputs": [],
   "source": []
  }
 ],
 "metadata": {
  "accelerator": "GPU",
  "colab": {
   "name": "NLP_Week4_Exercise_Shakespeare_Answer.ipynb",
   "provenance": []
  },
  "kernelspec": {
   "display_name": "Python 3",
   "language": "python",
   "name": "python3"
  },
  "language_info": {
   "codemirror_mode": {
    "name": "ipython",
    "version": 3
   },
   "file_extension": ".py",
   "mimetype": "text/x-python",
   "name": "python",
   "nbconvert_exporter": "python",
   "pygments_lexer": "ipython3",
   "version": "3.7.3"
  }
 },
 "nbformat": 4,
 "nbformat_minor": 1
}
